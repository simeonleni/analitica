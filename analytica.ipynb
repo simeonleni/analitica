{
 "cells": [
  {
   "cell_type": "code",
   "execution_count": 1,
   "metadata": {},
   "outputs": [],
   "source": [
    "# All important libraries goes here!\n",
    "import pandas as pd"
   ]
  },
  {
   "cell_type": "code",
   "execution_count": 2,
   "metadata": {},
   "outputs": [],
   "source": [
    "# Data Frame and removing colums\n",
    "dataframe = pd.read_csv('./Data/washedData.csv')\n",
    "dataframe = dataframe.drop(columns='ID')"
   ]
  },
  {
   "cell_type": "markdown",
   "metadata": {},
   "source": [
    "#### Problem Statement\n",
    "We are trying to understand the factors that influence whether a company has affected employees. This is important because companies with affected employees may require additional support or interventions. By identifying the key factors, we can target our interventions more effectively and potentially prevent employees from being affected in the future.\n",
    "\n",
    "To solve this problem, we will use this dataset to build a predictive model. This model will take as input the various financial and operational characteristics of a company and output a prediction of whether the company has affected employees. We can then use this model to predict the status of new companies and guide our interventions.\n"
   ]
  },
  {
   "cell_type": "markdown",
   "metadata": {},
   "source": [
    "<br>\n",
    "<br>\n",
    "\n",
    "#### (a) Data cleaning\n",
    "\n",
    "* Handling duplicate values.\n",
    "* Dealing with missing/null values.\n",
    "* Addressing inconsistent data.\n",
    "\n",
    "We will go through every column"
   ]
  },
  {
   "cell_type": "markdown",
   "metadata": {},
   "source": [
    "<br>\n",
    "\n",
    "#### (a) (ii) looking if there are missing values in each column of the dataframe"
   ]
  },
  {
   "cell_type": "code",
   "execution_count": 3,
   "metadata": {},
   "outputs": [
    {
     "name": "stdout",
     "output_type": "stream",
     "text": [
      "<class 'pandas.core.frame.DataFrame'>\n",
      "RangeIndex: 4137 entries, 0 to 4136\n",
      "Data columns (total 7 columns):\n",
      " #   Column             Non-Null Count  Dtype \n",
      "---  ------             --------------  ----- \n",
      " 0   No of employee     4137 non-null   int64 \n",
      " 1   Annual turnover    4129 non-null   object\n",
      " 2   TCTC               4123 non-null   object\n",
      " 3   Basic Salary       4135 non-null   object\n",
      " 4   Cash Injection     4137 non-null   int64 \n",
      " 5   Contrib Waiver     4137 non-null   int64 \n",
      " 6   Affected Employee  4137 non-null   int64 \n",
      "dtypes: int64(4), object(3)\n",
      "memory usage: 226.4+ KB\n"
     ]
    }
   ],
   "source": [
    "dataframe.info()"
   ]
  },
  {
   "cell_type": "markdown",
   "metadata": {},
   "source": [
    "From the results it shows that there arent any missing values, since the total entries = Not-Null Count of 4137"
   ]
  },
  {
   "cell_type": "markdown",
   "metadata": {},
   "source": [
    "<br>\n",
    "\n",
    "#### (a) (iii) Checking for duplicate rows"
   ]
  },
  {
   "cell_type": "code",
   "execution_count": 4,
   "metadata": {},
   "outputs": [
    {
     "data": {
      "text/plain": [
       "1075"
      ]
     },
     "execution_count": 4,
     "metadata": {},
     "output_type": "execute_result"
    }
   ],
   "source": [
    "dataframe.duplicated().sum()"
   ]
  },
  {
   "cell_type": "markdown",
   "metadata": {},
   "source": [
    "There are no duplicates in the dataset, for the sum = 0"
   ]
  },
  {
   "cell_type": "markdown",
   "metadata": {},
   "source": [
    "<br>\n",
    "\n",
    "#### (a) (iv) Ensuring data consistency\n",
    "\n",
    "These attributes may contain some inconsistencies, for the datatype has to be an integer.\n",
    "we will remove those values and run an algorithm to ensure consistency.\n",
    "\n",
    " 2.   Annual turnover    4129 non-null   object\n",
    " 3.   TCTC               4123 non-null   object\n",
    " 4.  Basic Salary       4135 non-null   object"
   ]
  },
  {
   "cell_type": "code",
   "execution_count": 5,
   "metadata": {},
   "outputs": [
    {
     "name": "stdout",
     "output_type": "stream",
     "text": [
      "<class 'pandas.core.frame.DataFrame'>\n",
      "RangeIndex: 4137 entries, 0 to 4136\n",
      "Data columns (total 3 columns):\n",
      " #   Column           Non-Null Count  Dtype  \n",
      "---  ------           --------------  -----  \n",
      " 0   Annual turnover  3876 non-null   float64\n",
      " 1   TCTC             3978 non-null   float64\n",
      " 2   Basic Salary     4099 non-null   float64\n",
      "dtypes: float64(3)\n",
      "memory usage: 97.1 KB\n"
     ]
    }
   ],
   "source": [
    "dataframe['Annual turnover'] = pd.to_numeric(dataframe['Annual turnover'], errors='coerce')\n",
    "dataframe['TCTC'] = pd.to_numeric(dataframe['TCTC'], errors='coerce')\n",
    "dataframe['Basic Salary'] = pd.to_numeric(dataframe['Basic Salary'], errors='coerce')\n",
    "\n",
    "dataframe[['Annual turnover', 'TCTC', 'Basic Salary']].info()"
   ]
  },
  {
   "cell_type": "markdown",
   "metadata": {},
   "source": [
    "Some minor cleaning has been performed, and unknown values have been removed, For further cleaning these null values are to be removed from the dataset"
   ]
  },
  {
   "cell_type": "code",
   "execution_count": 6,
   "metadata": {},
   "outputs": [
    {
     "data": {
      "text/html": [
       "<div>\n",
       "<style scoped>\n",
       "    .dataframe tbody tr th:only-of-type {\n",
       "        vertical-align: middle;\n",
       "    }\n",
       "\n",
       "    .dataframe tbody tr th {\n",
       "        vertical-align: top;\n",
       "    }\n",
       "\n",
       "    .dataframe thead th {\n",
       "        text-align: right;\n",
       "    }\n",
       "</style>\n",
       "<table border=\"1\" class=\"dataframe\">\n",
       "  <thead>\n",
       "    <tr style=\"text-align: right;\">\n",
       "      <th></th>\n",
       "      <th>No of employee</th>\n",
       "      <th>Annual turnover</th>\n",
       "      <th>TCTC</th>\n",
       "      <th>Basic Salary</th>\n",
       "      <th>Cash Injection</th>\n",
       "      <th>Contrib Waiver</th>\n",
       "      <th>Affected Employee</th>\n",
       "    </tr>\n",
       "  </thead>\n",
       "  <tbody>\n",
       "    <tr>\n",
       "      <th>0</th>\n",
       "      <td>63</td>\n",
       "      <td>3.098000e+09</td>\n",
       "      <td>13782989.04</td>\n",
       "      <td>9500520.21</td>\n",
       "      <td>0</td>\n",
       "      <td>1</td>\n",
       "      <td>0</td>\n",
       "    </tr>\n",
       "    <tr>\n",
       "      <th>1</th>\n",
       "      <td>73</td>\n",
       "      <td>1.500000e+07</td>\n",
       "      <td>326574.61</td>\n",
       "      <td>992400.00</td>\n",
       "      <td>1</td>\n",
       "      <td>1</td>\n",
       "      <td>1</td>\n",
       "    </tr>\n",
       "    <tr>\n",
       "      <th>2</th>\n",
       "      <td>18</td>\n",
       "      <td>0.000000e+00</td>\n",
       "      <td>543629.21</td>\n",
       "      <td>397789.63</td>\n",
       "      <td>0</td>\n",
       "      <td>1</td>\n",
       "      <td>1</td>\n",
       "    </tr>\n",
       "    <tr>\n",
       "      <th>3</th>\n",
       "      <td>25</td>\n",
       "      <td>5.200000e+07</td>\n",
       "      <td>725607.67</td>\n",
       "      <td>496910.00</td>\n",
       "      <td>0</td>\n",
       "      <td>1</td>\n",
       "      <td>1</td>\n",
       "    </tr>\n",
       "    <tr>\n",
       "      <th>4</th>\n",
       "      <td>1</td>\n",
       "      <td>7.652706e+05</td>\n",
       "      <td>205385.34</td>\n",
       "      <td>31530.00</td>\n",
       "      <td>0</td>\n",
       "      <td>0</td>\n",
       "      <td>0</td>\n",
       "    </tr>\n",
       "    <tr>\n",
       "      <th>...</th>\n",
       "      <td>...</td>\n",
       "      <td>...</td>\n",
       "      <td>...</td>\n",
       "      <td>...</td>\n",
       "      <td>...</td>\n",
       "      <td>...</td>\n",
       "      <td>...</td>\n",
       "    </tr>\n",
       "    <tr>\n",
       "      <th>4132</th>\n",
       "      <td>1</td>\n",
       "      <td>0.000000e+00</td>\n",
       "      <td>0.00</td>\n",
       "      <td>0.00</td>\n",
       "      <td>0</td>\n",
       "      <td>0</td>\n",
       "      <td>1</td>\n",
       "    </tr>\n",
       "    <tr>\n",
       "      <th>4133</th>\n",
       "      <td>2</td>\n",
       "      <td>5.509920e+05</td>\n",
       "      <td>45916.00</td>\n",
       "      <td>45916.00</td>\n",
       "      <td>1</td>\n",
       "      <td>1</td>\n",
       "      <td>1</td>\n",
       "    </tr>\n",
       "    <tr>\n",
       "      <th>4134</th>\n",
       "      <td>1</td>\n",
       "      <td>0.000000e+00</td>\n",
       "      <td>0.00</td>\n",
       "      <td>0.00</td>\n",
       "      <td>0</td>\n",
       "      <td>0</td>\n",
       "      <td>1</td>\n",
       "    </tr>\n",
       "    <tr>\n",
       "      <th>4135</th>\n",
       "      <td>1</td>\n",
       "      <td>0.000000e+00</td>\n",
       "      <td>0.00</td>\n",
       "      <td>0.00</td>\n",
       "      <td>0</td>\n",
       "      <td>0</td>\n",
       "      <td>1</td>\n",
       "    </tr>\n",
       "    <tr>\n",
       "      <th>4136</th>\n",
       "      <td>2</td>\n",
       "      <td>2.500000e+06</td>\n",
       "      <td>0.00</td>\n",
       "      <td>0.00</td>\n",
       "      <td>1</td>\n",
       "      <td>1</td>\n",
       "      <td>1</td>\n",
       "    </tr>\n",
       "  </tbody>\n",
       "</table>\n",
       "<p>4137 rows × 7 columns</p>\n",
       "</div>"
      ],
      "text/plain": [
       "      No of employee  Annual turnover         TCTC  Basic Salary  \\\n",
       "0                 63     3.098000e+09  13782989.04    9500520.21   \n",
       "1                 73     1.500000e+07    326574.61     992400.00   \n",
       "2                 18     0.000000e+00    543629.21     397789.63   \n",
       "3                 25     5.200000e+07    725607.67     496910.00   \n",
       "4                  1     7.652706e+05    205385.34      31530.00   \n",
       "...              ...              ...          ...           ...   \n",
       "4132               1     0.000000e+00         0.00          0.00   \n",
       "4133               2     5.509920e+05     45916.00      45916.00   \n",
       "4134               1     0.000000e+00         0.00          0.00   \n",
       "4135               1     0.000000e+00         0.00          0.00   \n",
       "4136               2     2.500000e+06         0.00          0.00   \n",
       "\n",
       "      Cash Injection  Contrib Waiver  Affected Employee  \n",
       "0                  0               1                  0  \n",
       "1                  1               1                  1  \n",
       "2                  0               1                  1  \n",
       "3                  0               1                  1  \n",
       "4                  0               0                  0  \n",
       "...              ...             ...                ...  \n",
       "4132               0               0                  1  \n",
       "4133               1               1                  1  \n",
       "4134               0               0                  1  \n",
       "4135               0               0                  1  \n",
       "4136               1               1                  1  \n",
       "\n",
       "[4137 rows x 7 columns]"
      ]
     },
     "execution_count": 6,
     "metadata": {},
     "output_type": "execute_result"
    }
   ],
   "source": [
    "dataframe"
   ]
  },
  {
   "cell_type": "markdown",
   "metadata": {},
   "source": [
    "<br>\n",
    "<br>\n",
    "\n",
    "#### Statistical Analysis\n",
    "\n",
    "* Mean TCTC: Explain the average compensation.\n",
    "* Median Basic Salary: Discuss the central tendency.\n",
    "* Standard Deviation of Annual Turnover: Highlight variability."
   ]
  },
  {
   "cell_type": "code",
   "execution_count": 7,
   "metadata": {},
   "outputs": [],
   "source": [
    "# Code goes here!"
   ]
  },
  {
   "cell_type": "markdown",
   "metadata": {},
   "source": [
    "<br>\n",
    "<br>\n",
    "\n",
    "#### Exploratory Data Analysis (EDA)\n",
    "\n",
    "* Histograms of \"Annual turnover\" and \"Basic Salary.\"\n",
    "* Box plots of \"TCTC\" to identify outliers.\n",
    "* Scatter plots to explore relationships between variables.\n",
    "\n",
    "Interpret the insights gained from each visualization."
   ]
  },
  {
   "cell_type": "code",
   "execution_count": 8,
   "metadata": {},
   "outputs": [],
   "source": [
    "# Code goes here!\n",
    "# Ever exploration is to be done on an individual block.\n",
    "# With a markdown to explain the Exploration"
   ]
  },
  {
   "cell_type": "markdown",
   "metadata": {},
   "source": [
    "<br>\n",
    "<br>\n",
    "\n",
    "#### Machine Learning\n",
    "\n",
    "##### Predictive Modeling for Annual Turnover\n",
    "\n",
    "Using **Annual Turnover** as the target variable (what you want to predict) and use other features as predictors.\n",
    "\n",
    "* No of Employees\n",
    "* TCTC\n",
    "* Basic Salary\n",
    "* Cash Injection\n",
    "* Contrib Waiver\n",
    "\n",
    "we can use regression algorithms like linear regression, decision trees, or random forests to build the model.\n",
    "\n",
    "<br>\n",
    "\n",
    "##### Employee Classification\n",
    "\n",
    "We can use machine learning to classify employees into different categories based\n",
    "\n",
    "* Cash Injection\n",
    "* Contrib Waiver\n",
    "* Affected Employee\n",
    "\n",
    "We might want to classify employees into **Highly Affected** and **Less Affected** categories.\n",
    "We can use classification algorithms like logistic regression, decision trees, or support vector machines.\n",
    "\n",
    "<br>\n",
    "\n",
    "##### Employee Segmentation\n",
    "\n",
    "Clustering techniques like K-means clustering can be used to segment employees based on their characteristics.\n",
    "\n",
    "We can use features like:\n",
    "\n",
    "* No of Employees\n",
    "* TCTC\n",
    "* Basic Salary\n",
    "\n",
    "To create meaningful clusters"
   ]
  },
  {
   "cell_type": "code",
   "execution_count": 9,
   "metadata": {},
   "outputs": [],
   "source": [
    "# Code goes here!"
   ]
  },
  {
   "cell_type": "markdown",
   "metadata": {},
   "source": [
    "<br>\n",
    "<br>\n",
    "\n",
    "#### Evaluation of Machine Learning\n",
    "\n",
    "Present performance metrics (e.g., Mean Absolute Error, R-squared) for each algorithm used.\n",
    "\n",
    "Explain what the results mean:\n",
    "\n",
    "* Which algorithm performed better?\n",
    "* How accurate is the prediction of turnover?"
   ]
  },
  {
   "cell_type": "markdown",
   "metadata": {},
   "source": [
    "<br>\n",
    "<br>\n",
    "\n",
    "#### Presentation of Results\n",
    "\n",
    "Summarize key findings:\n",
    "\n",
    "* Trends in employee turnover.\n",
    "* Compensation fairness insights.\n",
    "\n",
    "Mention any actionable recommendations based on the analysis."
   ]
  }
 ],
 "metadata": {
  "kernelspec": {
   "display_name": "Python 3",
   "language": "python",
   "name": "python3"
  },
  "language_info": {
   "codemirror_mode": {
    "name": "ipython",
    "version": 3
   },
   "file_extension": ".py",
   "mimetype": "text/x-python",
   "name": "python",
   "nbconvert_exporter": "python",
   "pygments_lexer": "ipython3",
   "version": "3.11.4"
  },
  "orig_nbformat": 4
 },
 "nbformat": 4,
 "nbformat_minor": 2
}
