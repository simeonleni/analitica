{
 "cells": [
  {
   "cell_type": "code",
   "execution_count": 11,
   "metadata": {},
   "outputs": [],
   "source": [
    "# All important libraries goes here!\n",
    "import pandas as pd\n",
    "import math"
   ]
  },
  {
   "cell_type": "code",
   "execution_count": 12,
   "metadata": {},
   "outputs": [],
   "source": [
    "# Data Frame and removing colums\n",
    "dataframe = pd.read_csv('./Data/washedData.csv')\n",
    "dataframe = dataframe.drop(columns='ID')"
   ]
  },
  {
   "cell_type": "markdown",
   "metadata": {},
   "source": [
    "#### Problem Statement\n",
    "We are trying to understand the factors that influence whether a company has affected employees. This is important because companies with affected employees may require additional support or interventions. By identifying the key factors, we can target our interventions more effectively and potentially prevent employees from being affected in the future.\n",
    "\n",
    "To solve this problem, we will use this dataset to build a predictive model. This model will take as input the various financial and operational characteristics of a company and output a prediction of whether the company has affected employees. We can then use this model to predict the status of new companies and guide our interventions.\n"
   ]
  },
  {
   "cell_type": "markdown",
   "metadata": {},
   "source": [
    "<br>\n",
    "<br>\n",
    "\n",
    "#### (a) Data cleaning\n",
    "\n",
    "* Handling duplicate values.\n",
    "* Dealing with missing/null values.\n",
    "* Addressing inconsistent data.\n",
    "\n",
    "We will go through every column"
   ]
  },
  {
   "cell_type": "markdown",
   "metadata": {},
   "source": [
    "<br>\n",
    "\n",
    "#### (a) (ii) looking if there are missing values in each column of the dataframe"
   ]
  },
  {
   "cell_type": "code",
   "execution_count": 13,
   "metadata": {},
   "outputs": [
    {
     "name": "stdout",
     "output_type": "stream",
     "text": [
      "<class 'pandas.core.frame.DataFrame'>\n",
      "RangeIndex: 4137 entries, 0 to 4136\n",
      "Data columns (total 7 columns):\n",
      " #   Column             Non-Null Count  Dtype \n",
      "---  ------             --------------  ----- \n",
      " 0   No of employee     4137 non-null   int64 \n",
      " 1   Annual turnover    4129 non-null   object\n",
      " 2   TCTC               4123 non-null   object\n",
      " 3   Basic Salary       4135 non-null   object\n",
      " 4   Cash Injection     4137 non-null   int64 \n",
      " 5   Contrib Waiver     4137 non-null   int64 \n",
      " 6   Affected Employee  4137 non-null   int64 \n",
      "dtypes: int64(4), object(3)\n",
      "memory usage: 226.4+ KB\n"
     ]
    }
   ],
   "source": [
    "dataframe.info()"
   ]
  },
  {
   "cell_type": "markdown",
   "metadata": {},
   "source": [
    "From the results it shows that there arent any missing values, since the total entries = Not-Null Count of 4137"
   ]
  },
  {
   "cell_type": "markdown",
   "metadata": {},
   "source": [
    "<br>\n",
    "\n",
    "#### (a) (iii) Checking for duplicate rows"
   ]
  },
  {
   "cell_type": "code",
   "execution_count": 14,
   "metadata": {},
   "outputs": [
    {
     "data": {
      "text/plain": [
       "1075"
      ]
     },
     "execution_count": 14,
     "metadata": {},
     "output_type": "execute_result"
    }
   ],
   "source": [
    "dataframe.duplicated().sum()"
   ]
  },
  {
   "cell_type": "markdown",
   "metadata": {},
   "source": [
    "There are no duplicates in the dataset, for the sum = 0"
   ]
  },
  {
   "cell_type": "markdown",
   "metadata": {},
   "source": [
    "<br>\n",
    "\n",
    "#### (a) (iv) Ensuring data consistency\n",
    "\n",
    "These attributes may contain some inconsistencies, for the datatype has to be an integer.\n",
    "we will remove those values and run an algorithm to ensure consistency.\n",
    "\n",
    " 2.   Annual turnover    4129 non-null   object\n",
    " 3.   TCTC               4123 non-null   object\n",
    " 4.  Basic Salary       4135 non-null   object"
   ]
  },
  {
   "cell_type": "code",
   "execution_count": 15,
   "metadata": {},
   "outputs": [
    {
     "data": {
      "text/html": [
       "<div>\n",
       "<style scoped>\n",
       "    .dataframe tbody tr th:only-of-type {\n",
       "        vertical-align: middle;\n",
       "    }\n",
       "\n",
       "    .dataframe tbody tr th {\n",
       "        vertical-align: top;\n",
       "    }\n",
       "\n",
       "    .dataframe thead th {\n",
       "        text-align: right;\n",
       "    }\n",
       "</style>\n",
       "<table border=\"1\" class=\"dataframe\">\n",
       "  <thead>\n",
       "    <tr style=\"text-align: right;\">\n",
       "      <th></th>\n",
       "      <th>Annual turnover</th>\n",
       "      <th>TCTC</th>\n",
       "      <th>Basic Salary</th>\n",
       "    </tr>\n",
       "  </thead>\n",
       "  <tbody>\n",
       "    <tr>\n",
       "      <th>count</th>\n",
       "      <td>3.876000e+03</td>\n",
       "      <td>3.978000e+03</td>\n",
       "      <td>4.099000e+03</td>\n",
       "    </tr>\n",
       "    <tr>\n",
       "      <th>mean</th>\n",
       "      <td>7.198401e+06</td>\n",
       "      <td>4.947246e+05</td>\n",
       "      <td>4.264880e+05</td>\n",
       "    </tr>\n",
       "    <tr>\n",
       "      <th>std</th>\n",
       "      <td>8.427608e+07</td>\n",
       "      <td>1.464206e+07</td>\n",
       "      <td>1.022407e+07</td>\n",
       "    </tr>\n",
       "    <tr>\n",
       "      <th>min</th>\n",
       "      <td>-3.968471e+08</td>\n",
       "      <td>0.000000e+00</td>\n",
       "      <td>0.000000e+00</td>\n",
       "    </tr>\n",
       "    <tr>\n",
       "      <th>25%</th>\n",
       "      <td>0.000000e+00</td>\n",
       "      <td>0.000000e+00</td>\n",
       "      <td>0.000000e+00</td>\n",
       "    </tr>\n",
       "    <tr>\n",
       "      <th>50%</th>\n",
       "      <td>4.000000e+04</td>\n",
       "      <td>3.600000e+03</td>\n",
       "      <td>5.000000e+03</td>\n",
       "    </tr>\n",
       "    <tr>\n",
       "      <th>75%</th>\n",
       "      <td>9.536879e+05</td>\n",
       "      <td>5.791195e+04</td>\n",
       "      <td>4.724824e+04</td>\n",
       "    </tr>\n",
       "    <tr>\n",
       "      <th>max</th>\n",
       "      <td>3.407609e+09</td>\n",
       "      <td>9.071940e+08</td>\n",
       "      <td>5.854672e+08</td>\n",
       "    </tr>\n",
       "  </tbody>\n",
       "</table>\n",
       "</div>"
      ],
      "text/plain": [
       "       Annual turnover          TCTC  Basic Salary\n",
       "count     3.876000e+03  3.978000e+03  4.099000e+03\n",
       "mean      7.198401e+06  4.947246e+05  4.264880e+05\n",
       "std       8.427608e+07  1.464206e+07  1.022407e+07\n",
       "min      -3.968471e+08  0.000000e+00  0.000000e+00\n",
       "25%       0.000000e+00  0.000000e+00  0.000000e+00\n",
       "50%       4.000000e+04  3.600000e+03  5.000000e+03\n",
       "75%       9.536879e+05  5.791195e+04  4.724824e+04\n",
       "max       3.407609e+09  9.071940e+08  5.854672e+08"
      ]
     },
     "execution_count": 15,
     "metadata": {},
     "output_type": "execute_result"
    }
   ],
   "source": [
    "dataframe['Annual turnover'] = pd.to_numeric(dataframe['Annual turnover'], errors='coerce')\n",
    "dataframe['TCTC'] = pd.to_numeric(dataframe['TCTC'], errors='coerce')\n",
    "dataframe['Basic Salary'] = pd.to_numeric(dataframe['Basic Salary'], errors='coerce')\n",
    "\n",
    "dataframe[['Annual turnover', 'TCTC', 'Basic Salary']].describe()"
   ]
  },
  {
   "cell_type": "markdown",
   "metadata": {},
   "source": [
    "Some minor cleaning has been performed, and unknown values have been removed, For further cleaning, data will be formatted to readable format/values"
   ]
  },
  {
   "cell_type": "code",
   "execution_count": 16,
   "metadata": {},
   "outputs": [],
   "source": [
    "dataframe['Annual turnover'] = dataframe['Annual turnover'].apply(lambda x: int(float(x)) if not math.isnan((x)) else '')\n",
    "dataframe['TCTC'] = dataframe['TCTC'].apply(lambda x: int(float(x)) if not math.isnan((x)) else '')\n",
    "dataframe['Basic Salary'] = dataframe['Basic Salary'].apply(lambda x: int(float(x)) if not math.isnan((x)) else '')"
   ]
  },
  {
   "cell_type": "code",
   "execution_count": 22,
   "metadata": {},
   "outputs": [
    {
     "data": {
      "text/html": [
       "<div>\n",
       "<style scoped>\n",
       "    .dataframe tbody tr th:only-of-type {\n",
       "        vertical-align: middle;\n",
       "    }\n",
       "\n",
       "    .dataframe tbody tr th {\n",
       "        vertical-align: top;\n",
       "    }\n",
       "\n",
       "    .dataframe thead th {\n",
       "        text-align: right;\n",
       "    }\n",
       "</style>\n",
       "<table border=\"1\" class=\"dataframe\">\n",
       "  <thead>\n",
       "    <tr style=\"text-align: right;\">\n",
       "      <th></th>\n",
       "      <th>No of employee</th>\n",
       "      <th>Annual turnover</th>\n",
       "      <th>TCTC</th>\n",
       "      <th>Basic Salary</th>\n",
       "      <th>Cash Injection</th>\n",
       "      <th>Contrib Waiver</th>\n",
       "      <th>Affected Employee</th>\n",
       "    </tr>\n",
       "  </thead>\n",
       "  <tbody>\n",
       "    <tr>\n",
       "      <th>0</th>\n",
       "      <td>63</td>\n",
       "      <td>3098000000</td>\n",
       "      <td>13782989</td>\n",
       "      <td>9500520</td>\n",
       "      <td>0</td>\n",
       "      <td>1</td>\n",
       "      <td>0</td>\n",
       "    </tr>\n",
       "    <tr>\n",
       "      <th>1</th>\n",
       "      <td>73</td>\n",
       "      <td>15000000</td>\n",
       "      <td>326574</td>\n",
       "      <td>992400</td>\n",
       "      <td>1</td>\n",
       "      <td>1</td>\n",
       "      <td>1</td>\n",
       "    </tr>\n",
       "    <tr>\n",
       "      <th>2</th>\n",
       "      <td>18</td>\n",
       "      <td>0</td>\n",
       "      <td>543629</td>\n",
       "      <td>397789</td>\n",
       "      <td>0</td>\n",
       "      <td>1</td>\n",
       "      <td>1</td>\n",
       "    </tr>\n",
       "    <tr>\n",
       "      <th>3</th>\n",
       "      <td>25</td>\n",
       "      <td>52000000</td>\n",
       "      <td>725607</td>\n",
       "      <td>496910</td>\n",
       "      <td>0</td>\n",
       "      <td>1</td>\n",
       "      <td>1</td>\n",
       "    </tr>\n",
       "    <tr>\n",
       "      <th>4</th>\n",
       "      <td>1</td>\n",
       "      <td>765270</td>\n",
       "      <td>205385</td>\n",
       "      <td>31530</td>\n",
       "      <td>0</td>\n",
       "      <td>0</td>\n",
       "      <td>0</td>\n",
       "    </tr>\n",
       "    <tr>\n",
       "      <th>...</th>\n",
       "      <td>...</td>\n",
       "      <td>...</td>\n",
       "      <td>...</td>\n",
       "      <td>...</td>\n",
       "      <td>...</td>\n",
       "      <td>...</td>\n",
       "      <td>...</td>\n",
       "    </tr>\n",
       "    <tr>\n",
       "      <th>4132</th>\n",
       "      <td>1</td>\n",
       "      <td>0</td>\n",
       "      <td>0</td>\n",
       "      <td>0</td>\n",
       "      <td>0</td>\n",
       "      <td>0</td>\n",
       "      <td>1</td>\n",
       "    </tr>\n",
       "    <tr>\n",
       "      <th>4133</th>\n",
       "      <td>2</td>\n",
       "      <td>550992</td>\n",
       "      <td>45916</td>\n",
       "      <td>45916</td>\n",
       "      <td>1</td>\n",
       "      <td>1</td>\n",
       "      <td>1</td>\n",
       "    </tr>\n",
       "    <tr>\n",
       "      <th>4134</th>\n",
       "      <td>1</td>\n",
       "      <td>0</td>\n",
       "      <td>0</td>\n",
       "      <td>0</td>\n",
       "      <td>0</td>\n",
       "      <td>0</td>\n",
       "      <td>1</td>\n",
       "    </tr>\n",
       "    <tr>\n",
       "      <th>4135</th>\n",
       "      <td>1</td>\n",
       "      <td>0</td>\n",
       "      <td>0</td>\n",
       "      <td>0</td>\n",
       "      <td>0</td>\n",
       "      <td>0</td>\n",
       "      <td>1</td>\n",
       "    </tr>\n",
       "    <tr>\n",
       "      <th>4136</th>\n",
       "      <td>2</td>\n",
       "      <td>2500000</td>\n",
       "      <td>0</td>\n",
       "      <td>0</td>\n",
       "      <td>1</td>\n",
       "      <td>1</td>\n",
       "      <td>1</td>\n",
       "    </tr>\n",
       "  </tbody>\n",
       "</table>\n",
       "<p>4137 rows × 7 columns</p>\n",
       "</div>"
      ],
      "text/plain": [
       "      No of employee Annual turnover      TCTC Basic Salary  Cash Injection  \\\n",
       "0                 63      3098000000  13782989      9500520               0   \n",
       "1                 73        15000000    326574       992400               1   \n",
       "2                 18               0    543629       397789               0   \n",
       "3                 25        52000000    725607       496910               0   \n",
       "4                  1          765270    205385        31530               0   \n",
       "...              ...             ...       ...          ...             ...   \n",
       "4132               1               0         0            0               0   \n",
       "4133               2          550992     45916        45916               1   \n",
       "4134               1               0         0            0               0   \n",
       "4135               1               0         0            0               0   \n",
       "4136               2         2500000         0            0               1   \n",
       "\n",
       "      Contrib Waiver  Affected Employee  \n",
       "0                  1                  0  \n",
       "1                  1                  1  \n",
       "2                  1                  1  \n",
       "3                  1                  1  \n",
       "4                  0                  0  \n",
       "...              ...                ...  \n",
       "4132               0                  1  \n",
       "4133               1                  1  \n",
       "4134               0                  1  \n",
       "4135               0                  1  \n",
       "4136               1                  1  \n",
       "\n",
       "[4137 rows x 7 columns]"
      ]
     },
     "execution_count": 22,
     "metadata": {},
     "output_type": "execute_result"
    }
   ],
   "source": [
    "dataframe"
   ]
  },
  {
   "cell_type": "markdown",
   "metadata": {},
   "source": [
    "<br>\n",
    "<br>\n",
    "\n",
    "#### Statistical Analysis\n",
    "\n",
    "* Mean TCTC: Explain the average compensation.\n",
    "* Median Basic Salary: Discuss the central tendency.\n",
    "* Standard Deviation of Annual Turnover: Highlight variability."
   ]
  },
  {
   "cell_type": "code",
   "execution_count": 18,
   "metadata": {},
   "outputs": [],
   "source": [
    "# Code goes here!"
   ]
  },
  {
   "cell_type": "markdown",
   "metadata": {},
   "source": [
    "<br>\n",
    "<br>\n",
    "\n",
    "#### Exploratory Data Analysis (EDA)\n",
    "\n",
    "* Histograms of \"Annual turnover\" and \"Basic Salary.\"\n",
    "* Box plots of \"TCTC\" to identify outliers.\n",
    "* Scatter plots to explore relationships between variables.\n",
    "\n",
    "Interpret the insights gained from each visualization."
   ]
  },
  {
   "cell_type": "code",
   "execution_count": 19,
   "metadata": {},
   "outputs": [],
   "source": [
    "# Code goes here!\n",
    "# Ever exploration is to be done on an individual block.\n",
    "# With a markdown to explain the Exploration"
   ]
  },
  {
   "cell_type": "markdown",
   "metadata": {},
   "source": [
    "<br>\n",
    "<br>\n",
    "\n",
    "#### Machine Learning\n",
    "\n",
    "##### Predictive Modeling for Annual Turnover\n",
    "\n",
    "Using **Annual Turnover** as the target variable (what you want to predict) and use other features as predictors.\n",
    "\n",
    "* No of Employees\n",
    "* TCTC\n",
    "* Basic Salary\n",
    "* Cash Injection\n",
    "* Contrib Waiver\n",
    "\n",
    "we can use regression algorithms like linear regression, decision trees, or random forests to build the model.\n",
    "\n",
    "<br>\n",
    "\n",
    "##### Employee Classification\n",
    "\n",
    "We can use machine learning to classify employees into different categories based\n",
    "\n",
    "* Cash Injection\n",
    "* Contrib Waiver\n",
    "* Affected Employee\n",
    "\n",
    "We might want to classify employees into **Highly Affected** and **Less Affected** categories.\n",
    "We can use classification algorithms like logistic regression, decision trees, or support vector machines.\n",
    "\n",
    "<br>\n",
    "\n",
    "##### Employee Segmentation\n",
    "\n",
    "Clustering techniques like K-means clustering can be used to segment employees based on their characteristics.\n",
    "\n",
    "We can use features like:\n",
    "\n",
    "* No of Employees\n",
    "* TCTC\n",
    "* Basic Salary\n",
    "\n",
    "To create meaningful clusters"
   ]
  },
  {
   "cell_type": "code",
   "execution_count": 20,
   "metadata": {},
   "outputs": [],
   "source": [
    "# Code goes here!"
   ]
  },
  {
   "cell_type": "markdown",
   "metadata": {},
   "source": [
    "<br>\n",
    "<br>\n",
    "\n",
    "#### Evaluation of Machine Learning\n",
    "\n",
    "Present performance metrics (e.g., Mean Absolute Error, R-squared) for each algorithm used.\n",
    "\n",
    "Explain what the results mean:\n",
    "\n",
    "* Which algorithm performed better?\n",
    "* How accurate is the prediction of turnover?"
   ]
  },
  {
   "cell_type": "markdown",
   "metadata": {},
   "source": [
    "<br>\n",
    "<br>\n",
    "\n",
    "#### Presentation of Results\n",
    "\n",
    "Summarize key findings:\n",
    "\n",
    "* Trends in employee turnover.\n",
    "* Compensation fairness insights.\n",
    "\n",
    "Mention any actionable recommendations based on the analysis."
   ]
  }
 ],
 "metadata": {
  "kernelspec": {
   "display_name": "Python 3",
   "language": "python",
   "name": "python3"
  },
  "language_info": {
   "codemirror_mode": {
    "name": "ipython",
    "version": 3
   },
   "file_extension": ".py",
   "mimetype": "text/x-python",
   "name": "python",
   "nbconvert_exporter": "python",
   "pygments_lexer": "ipython3",
   "version": "3.11.4"
  },
  "orig_nbformat": 4
 },
 "nbformat": 4,
 "nbformat_minor": 2
}
