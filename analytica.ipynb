{
 "cells": [
  {
   "cell_type": "code",
   "execution_count": 1,
   "metadata": {},
   "outputs": [],
   "source": [
    "# All important libraries goes here!\n",
    "import pandas as pd"
   ]
  },
  {
   "cell_type": "code",
   "execution_count": 2,
   "metadata": {},
   "outputs": [],
   "source": [
    "pd.options.display.float_format = '{:.2f}'.format"
   ]
  },
  {
   "cell_type": "code",
   "execution_count": 3,
   "metadata": {},
   "outputs": [],
   "source": [
    "# Data Frame and removing colums\n",
    "dataframe = pd.read_csv('./Data/washedData.csv')\n",
    "dataframe = dataframe.drop(columns='ID')"
   ]
  },
  {
   "cell_type": "markdown",
   "metadata": {},
   "source": [
    "#### Problem Statement\n",
    "We are trying to understand the factors that influence whether a company has affected employees. This is important because companies with affected employees may require additional support or interventions. By identifying the key factors, we can target our interventions more effectively and potentially prevent employees from being affected in the future.\n",
    "\n",
    "To solve this problem, we will use this dataset to build a predictive model. This model will take as input the various financial and operational characteristics of a company and output a prediction of whether the company has affected employees. We can then use this model to predict the status of new companies and guide our interventions.\n"
   ]
  },
  {
   "cell_type": "markdown",
   "metadata": {},
   "source": [
    "<br>\n",
    "<br>\n",
    "\n",
    "#### (a) Data cleaning\n",
    "\n",
    "* Handling duplicate values.\n",
    "* Dealing with missing/null values.\n",
    "* Addressing inconsistent data.\n",
    "\n",
    "We will go through every column"
   ]
  },
  {
   "cell_type": "markdown",
   "metadata": {},
   "source": [
    "<br>\n",
    "\n",
    "#### (a) (ii) looking if there are missing values in each column of the dataframe"
   ]
  },
  {
   "cell_type": "code",
   "execution_count": 4,
   "metadata": {},
   "outputs": [
    {
     "name": "stdout",
     "output_type": "stream",
     "text": [
      "<class 'pandas.core.frame.DataFrame'>\n",
      "RangeIndex: 4137 entries, 0 to 4136\n",
      "Data columns (total 7 columns):\n",
      " #   Column             Non-Null Count  Dtype \n",
      "---  ------             --------------  ----- \n",
      " 0   No of employee     4137 non-null   int64 \n",
      " 1   Annual turnover    4129 non-null   object\n",
      " 2   TCTC               4123 non-null   object\n",
      " 3   Basic Salary       4135 non-null   object\n",
      " 4   Cash Injection     4137 non-null   int64 \n",
      " 5   Contrib Waiver     4137 non-null   int64 \n",
      " 6   Affected Employee  4137 non-null   int64 \n",
      "dtypes: int64(4), object(3)\n",
      "memory usage: 226.4+ KB\n"
     ]
    }
   ],
   "source": [
    "dataframe.info()"
   ]
  },
  {
   "cell_type": "markdown",
   "metadata": {},
   "source": [
    "From the results it shows that there arent any missing values, since the total entries = Not-Null Count of 4137"
   ]
  },
  {
   "cell_type": "markdown",
   "metadata": {},
   "source": [
    "<br>\n",
    "\n",
    "#### (a) (iii) Checking for duplicate rows"
   ]
  },
  {
   "cell_type": "code",
   "execution_count": 5,
   "metadata": {},
   "outputs": [
    {
     "data": {
      "text/plain": [
       "1075"
      ]
     },
     "execution_count": 5,
     "metadata": {},
     "output_type": "execute_result"
    }
   ],
   "source": [
    "dataframe.duplicated().sum()"
   ]
  },
  {
   "cell_type": "markdown",
   "metadata": {},
   "source": [
    "There are 1075 duplicates in the dataset, Those will be removed"
   ]
  },
  {
   "cell_type": "code",
   "execution_count": 6,
   "metadata": {},
   "outputs": [
    {
     "data": {
      "text/plain": [
       "0"
      ]
     },
     "execution_count": 6,
     "metadata": {},
     "output_type": "execute_result"
    }
   ],
   "source": [
    "dataframe.drop_duplicates(inplace=True)\n",
    "dataframe.duplicated().sum()"
   ]
  },
  {
   "cell_type": "markdown",
   "metadata": {},
   "source": [
    "<br>\n",
    "\n",
    "#### (a) (iv) Ensuring data consistency and removing null values\n",
    "\n",
    "These attributes may contain some inconsistencies, for the datatype has to be an integer.\n",
    "\n",
    " 2.   Annual turnover    4129 non-null   object\n",
    " 3.   TCTC               4123 non-null   object\n",
    " 4.  Basic Salary       4135 non-null   object"
   ]
  },
  {
   "cell_type": "code",
   "execution_count": 7,
   "metadata": {},
   "outputs": [
    {
     "data": {
      "text/html": [
       "<div>\n",
       "<style scoped>\n",
       "    .dataframe tbody tr th:only-of-type {\n",
       "        vertical-align: middle;\n",
       "    }\n",
       "\n",
       "    .dataframe tbody tr th {\n",
       "        vertical-align: top;\n",
       "    }\n",
       "\n",
       "    .dataframe thead th {\n",
       "        text-align: right;\n",
       "    }\n",
       "</style>\n",
       "<table border=\"1\" class=\"dataframe\">\n",
       "  <thead>\n",
       "    <tr style=\"text-align: right;\">\n",
       "      <th></th>\n",
       "      <th>No of employee</th>\n",
       "      <th>Annual turnover</th>\n",
       "      <th>TCTC</th>\n",
       "      <th>Basic Salary</th>\n",
       "      <th>Cash Injection</th>\n",
       "      <th>Contrib Waiver</th>\n",
       "      <th>Affected Employee</th>\n",
       "    </tr>\n",
       "  </thead>\n",
       "  <tbody>\n",
       "    <tr>\n",
       "      <th>0</th>\n",
       "      <td>63</td>\n",
       "      <td>3098000000.00</td>\n",
       "      <td>13782989.04</td>\n",
       "      <td>9500520.21</td>\n",
       "      <td>0</td>\n",
       "      <td>1</td>\n",
       "      <td>0</td>\n",
       "    </tr>\n",
       "    <tr>\n",
       "      <th>1</th>\n",
       "      <td>73</td>\n",
       "      <td>15000000.00</td>\n",
       "      <td>326574.61</td>\n",
       "      <td>992400.00</td>\n",
       "      <td>1</td>\n",
       "      <td>1</td>\n",
       "      <td>1</td>\n",
       "    </tr>\n",
       "    <tr>\n",
       "      <th>2</th>\n",
       "      <td>18</td>\n",
       "      <td>0.00</td>\n",
       "      <td>543629.21</td>\n",
       "      <td>397789.63</td>\n",
       "      <td>0</td>\n",
       "      <td>1</td>\n",
       "      <td>1</td>\n",
       "    </tr>\n",
       "    <tr>\n",
       "      <th>3</th>\n",
       "      <td>25</td>\n",
       "      <td>52000000.00</td>\n",
       "      <td>725607.67</td>\n",
       "      <td>496910.00</td>\n",
       "      <td>0</td>\n",
       "      <td>1</td>\n",
       "      <td>1</td>\n",
       "    </tr>\n",
       "    <tr>\n",
       "      <th>4</th>\n",
       "      <td>1</td>\n",
       "      <td>765270.60</td>\n",
       "      <td>205385.34</td>\n",
       "      <td>31530.00</td>\n",
       "      <td>0</td>\n",
       "      <td>0</td>\n",
       "      <td>0</td>\n",
       "    </tr>\n",
       "  </tbody>\n",
       "</table>\n",
       "</div>"
      ],
      "text/plain": [
       "   No of employee  Annual turnover        TCTC  Basic Salary  Cash Injection  \\\n",
       "0              63    3098000000.00 13782989.04    9500520.21               0   \n",
       "1              73      15000000.00   326574.61     992400.00               1   \n",
       "2              18             0.00   543629.21     397789.63               0   \n",
       "3              25      52000000.00   725607.67     496910.00               0   \n",
       "4               1        765270.60   205385.34      31530.00               0   \n",
       "\n",
       "   Contrib Waiver  Affected Employee  \n",
       "0               1                  0  \n",
       "1               1                  1  \n",
       "2               1                  1  \n",
       "3               1                  1  \n",
       "4               0                  0  "
      ]
     },
     "execution_count": 7,
     "metadata": {},
     "output_type": "execute_result"
    }
   ],
   "source": [
    "dataframe['Annual turnover'] = pd.to_numeric(dataframe['Annual turnover'], errors='coerce')\n",
    "dataframe['TCTC'] = pd.to_numeric(dataframe['TCTC'], errors='coerce')\n",
    "dataframe['Basic Salary'] = pd.to_numeric(dataframe['Basic Salary'], errors='coerce')\n",
    "\n",
    "dataframe.dropna(inplace=True)\n",
    "\n",
    "dataframe.head(5)"
   ]
  },
  {
   "cell_type": "markdown",
   "metadata": {},
   "source": [
    "<br>\n",
    "\n",
    "##### (a) (v) Removing outliers"
   ]
  },
  {
   "cell_type": "code",
   "execution_count": 8,
   "metadata": {},
   "outputs": [],
   "source": [
    "def remove_outliers(dataframe, column):\n",
    "    Q1 = dataframe[column].quantile(0.25)\n",
    "    Q3 = dataframe[column].quantile(0.75)\n",
    "    IQR = Q3 - Q1\n",
    "    lower_bound = Q1 - 1.5 * IQR\n",
    "    upper_bound = Q3 + 1.5 * IQR\n",
    "    dataframe = dataframe[(dataframe[column] >= lower_bound) & (dataframe[column] <= upper_bound)]\n",
    "    return dataframe\n",
    "\n",
    "# Apply the function to the columns with outliers\n",
    "for column in ['No of employee', 'Annual turnover', 'TCTC', 'Basic Salary']:\n",
    "    dataframe = remove_outliers(dataframe, column)\n",
    "\n",
    "# Save the cleaned data to a CSV file\n",
    "dataframe.to_csv('./Data/cleaned-data.csv', index=False)"
   ]
  },
  {
   "cell_type": "markdown",
   "metadata": {},
   "source": [
    "<br>\n",
    "<br>\n",
    "\n",
    "#### (b) Statistical Analysis"
   ]
  },
  {
   "cell_type": "code",
   "execution_count": 9,
   "metadata": {},
   "outputs": [
    {
     "data": {
      "text/html": [
       "<div>\n",
       "<style scoped>\n",
       "    .dataframe tbody tr th:only-of-type {\n",
       "        vertical-align: middle;\n",
       "    }\n",
       "\n",
       "    .dataframe tbody tr th {\n",
       "        vertical-align: top;\n",
       "    }\n",
       "\n",
       "    .dataframe thead th {\n",
       "        text-align: right;\n",
       "    }\n",
       "</style>\n",
       "<table border=\"1\" class=\"dataframe\">\n",
       "  <thead>\n",
       "    <tr style=\"text-align: right;\">\n",
       "      <th></th>\n",
       "      <th>No of employee</th>\n",
       "      <th>Annual turnover</th>\n",
       "      <th>TCTC</th>\n",
       "      <th>Basic Salary</th>\n",
       "      <th>Cash Injection</th>\n",
       "      <th>Contrib Waiver</th>\n",
       "      <th>Affected Employee</th>\n",
       "    </tr>\n",
       "  </thead>\n",
       "  <tbody>\n",
       "    <tr>\n",
       "      <th>count</th>\n",
       "      <td>1584.00</td>\n",
       "      <td>1584.00</td>\n",
       "      <td>1584.00</td>\n",
       "      <td>1584.00</td>\n",
       "      <td>1584.00</td>\n",
       "      <td>1584.00</td>\n",
       "      <td>1584.00</td>\n",
       "    </tr>\n",
       "    <tr>\n",
       "      <th>mean</th>\n",
       "      <td>5.47</td>\n",
       "      <td>525426.92</td>\n",
       "      <td>19281.95</td>\n",
       "      <td>14758.83</td>\n",
       "      <td>0.71</td>\n",
       "      <td>0.70</td>\n",
       "      <td>0.91</td>\n",
       "    </tr>\n",
       "    <tr>\n",
       "      <th>std</th>\n",
       "      <td>5.89</td>\n",
       "      <td>1035349.32</td>\n",
       "      <td>27751.99</td>\n",
       "      <td>18020.23</td>\n",
       "      <td>0.45</td>\n",
       "      <td>0.46</td>\n",
       "      <td>0.29</td>\n",
       "    </tr>\n",
       "    <tr>\n",
       "      <th>min</th>\n",
       "      <td>1.00</td>\n",
       "      <td>-3000000.00</td>\n",
       "      <td>0.00</td>\n",
       "      <td>0.00</td>\n",
       "      <td>0.00</td>\n",
       "      <td>0.00</td>\n",
       "      <td>0.00</td>\n",
       "    </tr>\n",
       "    <tr>\n",
       "      <th>25%</th>\n",
       "      <td>1.00</td>\n",
       "      <td>9600.00</td>\n",
       "      <td>300.00</td>\n",
       "      <td>2000.00</td>\n",
       "      <td>0.00</td>\n",
       "      <td>0.00</td>\n",
       "      <td>1.00</td>\n",
       "    </tr>\n",
       "    <tr>\n",
       "      <th>50%</th>\n",
       "      <td>3.00</td>\n",
       "      <td>80000.00</td>\n",
       "      <td>6820.00</td>\n",
       "      <td>6514.25</td>\n",
       "      <td>1.00</td>\n",
       "      <td>1.00</td>\n",
       "      <td>1.00</td>\n",
       "    </tr>\n",
       "    <tr>\n",
       "      <th>75%</th>\n",
       "      <td>7.00</td>\n",
       "      <td>480000.00</td>\n",
       "      <td>27380.38</td>\n",
       "      <td>21250.00</td>\n",
       "      <td>1.00</td>\n",
       "      <td>1.00</td>\n",
       "      <td>1.00</td>\n",
       "    </tr>\n",
       "    <tr>\n",
       "      <th>max</th>\n",
       "      <td>26.00</td>\n",
       "      <td>6100000.00</td>\n",
       "      <td>153192.00</td>\n",
       "      <td>75800.00</td>\n",
       "      <td>1.00</td>\n",
       "      <td>1.00</td>\n",
       "      <td>1.00</td>\n",
       "    </tr>\n",
       "  </tbody>\n",
       "</table>\n",
       "</div>"
      ],
      "text/plain": [
       "       No of employee  Annual turnover      TCTC  Basic Salary  \\\n",
       "count         1584.00          1584.00   1584.00       1584.00   \n",
       "mean             5.47        525426.92  19281.95      14758.83   \n",
       "std              5.89       1035349.32  27751.99      18020.23   \n",
       "min              1.00      -3000000.00      0.00          0.00   \n",
       "25%              1.00          9600.00    300.00       2000.00   \n",
       "50%              3.00         80000.00   6820.00       6514.25   \n",
       "75%              7.00        480000.00  27380.38      21250.00   \n",
       "max             26.00       6100000.00 153192.00      75800.00   \n",
       "\n",
       "       Cash Injection  Contrib Waiver  Affected Employee  \n",
       "count         1584.00         1584.00            1584.00  \n",
       "mean             0.71            0.70               0.91  \n",
       "std              0.45            0.46               0.29  \n",
       "min              0.00            0.00               0.00  \n",
       "25%              0.00            0.00               1.00  \n",
       "50%              1.00            1.00               1.00  \n",
       "75%              1.00            1.00               1.00  \n",
       "max              1.00            1.00               1.00  "
      ]
     },
     "execution_count": 9,
     "metadata": {},
     "output_type": "execute_result"
    }
   ],
   "source": [
    "dataframe.describe()"
   ]
  },
  {
   "cell_type": "markdown",
   "metadata": {},
   "source": [
    "**Number of Employees**\n",
    "\n",
    "- We looked at a total of 2,673 businesses in Namibia.\n",
    "- On average, each business had about 13 employees.\n",
    "- However, this number varied a lot.\n",
    "- Some businesses had just one employee, while the largest had 1,488.\n",
    "\n",
    "\n",
    "**Annual Turnover (Revenue)**\n",
    "\n",
    "- We examined the money these businesses made in a year.\n",
    "- On average, a business in Namibia earned around 10.3 million Namibian Dollars each year.\n",
    "- However, this also had a big range.\n",
    "- Some businesses had negative turnover, meaning they didn't earn anything.\n",
    "- The highest-earning business brought in a whopping 3.4 billion Namibian Dollars.\n",
    "\n",
    "\n",
    "**Total Compensation for Employees**\n",
    "\n",
    "- We looked at how much these businesses paid their employees in total.\n",
    "- On average, each employee received about 716,797 Namibian Dollars annually.\n",
    "- Again, this varied widely.\n",
    "- Some employees received no compensation, while the highest-earning employee got 907.2 million Namibian Dollars.\n",
    "\n",
    "\n",
    "**Basic Salary**\n",
    "\n",
    "- This is the regular salary employees receive.\n",
    "- On average, an employee's basic salary was around 556,099 Namibian Dollars.\n",
    "- But this also had a big range, from zero (some employees didn't get a basic salary) to 585.5 million Namibian Dollars.\n",
    "\n",
    "\n",
    "**Cash Injection**\n",
    "\n",
    "- This shows whether these businesses received extra cash or financial support.\n",
    "- On average, businesses got this support about 71% of the time.\n",
    "\n",
    "\n",
    "**Contribution Waiver**\n",
    "\n",
    "- This tells us if these businesses waived certain contributions.\n",
    "- On average, businesses applied these waivers about 70% of the time.\n",
    "\n",
    "\n",
    "**Affected Employees**\n",
    "\n",
    "- This is about whether employees were affected by certain conditions or changes in the business.\n",
    "- On average, about 89% of businesses reported that their employees were affected by these conditions.\n"
   ]
  },
  {
   "cell_type": "markdown",
   "metadata": {},
   "source": [
    "<br>\n",
    "<br>\n",
    "\n",
    "#### Exploratory Data Analysis (EDA)\n",
    "\n",
    "* Histograms of \"Annual turnover\" and \"Basic Salary.\"\n",
    "* Box plots of \"TCTC\" to identify outliers.\n",
    "* Scatter plots to explore relationships between variables.\n",
    "\n",
    "Interpret the insights gained from each visualization."
   ]
  },
  {
   "cell_type": "code",
   "execution_count": 10,
   "metadata": {},
   "outputs": [
    {
     "data": {
      "text/plain": [
       "array([[<Axes: title={'center': 'No of employee'}>,\n",
       "        <Axes: title={'center': 'Annual turnover'}>,\n",
       "        <Axes: title={'center': 'TCTC'}>],\n",
       "       [<Axes: title={'center': 'Basic Salary'}>,\n",
       "        <Axes: title={'center': 'Cash Injection'}>,\n",
       "        <Axes: title={'center': 'Contrib Waiver'}>],\n",
       "       [<Axes: title={'center': 'Affected Employee'}>, <Axes: >,\n",
       "        <Axes: >]], dtype=object)"
      ]
     },
     "execution_count": 10,
     "metadata": {},
     "output_type": "execute_result"
    },
    {
     "data": {
      "image/png": "[encoded data removed]",
      "text/plain": [
       "<Figure size 1000x1000 with 9 Axes>"
      ]
     },
     "metadata": {},
     "output_type": "display_data"
    }
   ],
   "source": [
    "# Code goes here!\n",
    "# Ever exploration is to be done on an individual block.\n",
    "# With a markdown to explain the Exploration\n",
    "clean_data = pd.read_csv('./data/cleaned-data.csv')\n",
    "clean_data.hist(figsize=(10,10))"
   ]
  },
  {
   "cell_type": "markdown",
   "metadata": {},
   "source": [
    "<br>\n",
    "<br>\n",
    "\n",
    "#### Machine Learning\n",
    "\n",
    "##### Predictive Modeling for Annual Turnover\n",
    "\n",
    "Using **Annual Turnover** as the target variable (what you want to predict) and use other features as predictors.\n",
    "\n",
    "* No of Employees\n",
    "* TCTC\n",
    "* Basic Salary\n",
    "* Cash Injection\n",
    "* Contrib Waiver\n",
    "\n",
    "we can use regression algorithms like linear regression, decision trees, or random forests to build the model.\n",
    "\n",
    "<br>\n",
    "\n",
    "##### Employee Classification\n",
    "\n",
    "We can use machine learning to classify employees into different categories based\n",
    "\n",
    "* Cash Injection\n",
    "* Contrib Waiver\n",
    "* Affected Employee\n",
    "\n",
    "We might want to classify employees into **Highly Affected** and **Less Affected** categories.\n",
    "We can use classification algorithms like logistic regression, decision trees, or support vector machines.\n",
    "\n",
    "<br>\n",
    "\n",
    "##### Employee Segmentation\n",
    "\n",
    "Clustering techniques like K-means clustering can be used to segment employees based on their characteristics.\n",
    "\n",
    "We can use features like:\n",
    "\n",
    "* No of Employees\n",
    "* TCTC\n",
    "* Basic Salary\n",
    "\n",
    "To create meaningful clusters"
   ]
  },
  {
   "cell_type": "code",
   "execution_count": 11,
   "metadata": {},
   "outputs": [],
   "source": [
    "# Code goes here!"
   ]
  },
  {
   "cell_type": "markdown",
   "metadata": {},
   "source": [
    "<br>\n",
    "<br>\n",
    "\n",
    "#### Evaluation of Machine Learning\n",
    "\n",
    "Present performance metrics (e.g., Mean Absolute Error, R-squared) for each algorithm used.\n",
    "\n",
    "Explain what the results mean:\n",
    "\n",
    "* Which algorithm performed better?\n",
    "* How accurate is the prediction of turnover?"
   ]
  },
  {
   "cell_type": "markdown",
   "metadata": {},
   "source": [
    "<br>\n",
    "<br>\n",
    "\n",
    "#### Presentation of Results\n",
    "\n",
    "Summarize key findings:\n",
    "\n",
    "* Trends in employee turnover.\n",
    "* Compensation fairness insights.\n",
    "\n",
    "Mention any actionable recommendations based on the analysis."
   ]
  }
 ],
 "metadata": {
  "kernelspec": {
   "display_name": "Python 3",
   "language": "python",
   "name": "python3"
  },
  "language_info": {
   "codemirror_mode": {
    "name": "ipython",
    "version": 3
   },
   "file_extension": ".py",
   "mimetype": "text/x-python",
   "name": "python",
   "nbconvert_exporter": "python",
   "pygments_lexer": "ipython3",
   "version": "3.11.4"
  },
  "orig_nbformat": 4
 },
 "nbformat": 4,
 "nbformat_minor": 2
}
