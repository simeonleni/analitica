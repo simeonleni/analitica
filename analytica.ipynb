{
 "cells": [
  {
   "cell_type": "code",
   "execution_count": null,
   "metadata": {},
   "outputs": [],
   "source": [
    "# All important libraries goes here!\n",
    "import pandas as pd\n",
    "import matplotlib.pyplot as plt\n",
    "import seaborn as sns\n"
   ]
  },
  {
   "cell_type": "code",
   "execution_count": null,
   "metadata": {},
   "outputs": [],
   "source": [
    "pd.options.display.float_format = '{:.2f}'.format"
   ]
  },
  {
   "cell_type": "code",
   "execution_count": null,
   "metadata": {},
   "outputs": [],
   "source": [
    "dataframe = pd.read_csv('./Data/washedData.csv')\n",
    "dataframe = dataframe.drop(columns='ID')\n",
    "\n",
    "clean_data = pd.read_csv('./Data/cleaned-data.csv')\n"
   ]
  },
  {
   "cell_type": "markdown",
   "metadata": {},
   "source": [
    "#### Problem Statement\n",
    "We are trying to understand the factors that influence whether a company has affected employees.\n",
    "\n",
    "This is important because companies with affected employees may require additional support or interventions.\n",
    "\n",
    "By identifying the key factors, we can target our interventions more effectively and potentially prevent employees from being affected in the future.\n",
    "\n",
    "To solve this problem, we will use this dataset to build a predictive model.\n",
    "\n",
    "This model will take as input the various financial and operational characteristics of a company and output a prediction of whether the company has affected employees.\n",
    "\n",
    "We can then use this model to predict the status of new companies and guide our interventions.\n"
   ]
  },
  {
   "cell_type": "markdown",
   "metadata": {},
   "source": [
    "<br>\n",
    "<br>\n",
    "\n",
    "#### (a) Data cleaning\n"
   ]
  },
  {
   "cell_type": "markdown",
   "metadata": {},
   "source": [
    "##### (a) (ii) looking if there are missing values in each column of the dataframe"
   ]
  },
  {
   "cell_type": "code",
   "execution_count": null,
   "metadata": {},
   "outputs": [],
   "source": [
    "dataframe.info()"
   ]
  },
  {
   "cell_type": "markdown",
   "metadata": {},
   "source": [
    "From the results it shows that there arent any missing values, since the total entries = Not-Null Count of 4137"
   ]
  },
  {
   "cell_type": "markdown",
   "metadata": {},
   "source": [
    "<br>\n",
    "\n",
    "##### (a) (iii) Checking for duplicate rows"
   ]
  },
  {
   "cell_type": "code",
   "execution_count": null,
   "metadata": {},
   "outputs": [],
   "source": [
    "dataframe.duplicated().sum()"
   ]
  },
  {
   "cell_type": "markdown",
   "metadata": {},
   "source": [
    "There are 1075 duplicates in the dataset, Those will be removed"
   ]
  },
  {
   "cell_type": "code",
   "execution_count": null,
   "metadata": {},
   "outputs": [],
   "source": [
    "dataframe.drop_duplicates(inplace=True)\n",
    "dataframe.duplicated().sum()"
   ]
  },
  {
   "cell_type": "markdown",
   "metadata": {},
   "source": [
    "<br>\n",
    "\n",
    "##### (a) (iv) Ensuring data consistency and removing null values\n",
    "\n",
    "These attributes may contain some inconsistencies, for the datatype has to be an integer.\n",
    "\n",
    " 2.   Annual turnover    4129 non-null   object\n",
    " 3.   TCTC               4123 non-null   object\n",
    " 4.  Basic Salary       4135 non-null   object"
   ]
  },
  {
   "cell_type": "code",
   "execution_count": null,
   "metadata": {},
   "outputs": [],
   "source": [
    "dataframe['Annual turnover'] = pd.to_numeric(dataframe['Annual turnover'], errors='coerce')\n",
    "dataframe['TCTC'] = pd.to_numeric(dataframe['TCTC'], errors='coerce')\n",
    "dataframe['Basic Salary'] = pd.to_numeric(dataframe['Basic Salary'], errors='coerce')\n",
    "\n",
    "dataframe.dropna(inplace=True)\n",
    "\n",
    "dataframe.head(5)"
   ]
  },
  {
   "cell_type": "markdown",
   "metadata": {},
   "source": [
    "<br>\n",
    "\n",
    "##### (a) (v) Removing outliers"
   ]
  },
  {
   "cell_type": "code",
   "execution_count": null,
   "metadata": {},
   "outputs": [],
   "source": [
    "def remove_outliers(dataframe, column):\n",
    "    Q1 = dataframe[column].quantile(0.25)\n",
    "    Q3 = dataframe[column].quantile(0.75)\n",
    "    IQR = Q3 - Q1\n",
    "    lower_bound = Q1 - 1.5 * IQR\n",
    "    upper_bound = Q3 + 1.5 * IQR\n",
    "    dataframe = dataframe[(dataframe[column] >= lower_bound) & (dataframe[column] <= upper_bound)]\n",
    "    return dataframe\n",
    "\n",
    "for column in ['No of employee', 'Annual turnover', 'TCTC', 'Basic Salary']:\n",
    "    dataframe = remove_outliers(dataframe, column)\n",
    "\n",
    "dataframe.to_csv('./Data/cleaned-data.csv', index=False)"
   ]
  },
  {
   "cell_type": "markdown",
   "metadata": {},
   "source": [
    "<br>\n",
    "<br>\n",
    "\n",
    "#### (b) Statistical Analysis"
   ]
  },
  {
   "cell_type": "code",
   "execution_count": null,
   "metadata": {},
   "outputs": [],
   "source": [
    "dataframe.describe()"
   ]
  },
  {
   "cell_type": "markdown",
   "metadata": {},
   "source": [
    "**Number of Employees:**\n",
    "- The data covers a total of 1,584 businesses.\n",
    "- On average, each business has approximately 5.47 employees.\n",
    "- The number of employees varies significantly, ranging from 1 employee to a maximum of 26 employees in a single business.\n",
    "\n",
    "**Annual Turnover (Revenue):**\n",
    "- The average annual turnover (revenue) for businesses is approximately 525,426.92 Namibian Dollars.\n",
    "- The range of annual turnovers is substantial, with some businesses reporting negative turnover (indicating losses) and others earning up to 6,100,000 Namibian Dollars annually.\n",
    "\n",
    "**Total Compensation for Employees:**\n",
    "- On average, each employee receives about 19,281.95 Namibian Dollars as total compensation annually.\n",
    "- The total compensation varies widely among employees, with some receiving no compensation and the highest-earning employee receiving 153,192 Namibian Dollars annually.\n",
    "\n",
    "**Basic Salary:**\n",
    "- The average basic salary for employees is around 14,758.83 Namibian Dollars.\n",
    "- The range of basic salaries is extensive, with some employees not receiving any basic salary and others receiving up to 75,800 Namibian Dollars.\n",
    "\n",
    "**Cash Injection:**\n",
    "- On average, businesses received cash injections or financial support about 71% of the time. This suggests that many businesses received external financial assistance.\n",
    "\n",
    "**Contribution Waiver:**\n",
    "- Businesses applied contribution waivers approximately 70% of the time. This indicates that a significant portion of businesses waived certain contributions.\n",
    "\n",
    "**Affected Employees:**\n",
    "- On average, about 91% of businesses reported that their employees were affected by certain conditions or changes in the business.\n"
   ]
  },
  {
   "cell_type": "markdown",
   "metadata": {},
   "source": [
    "<br>\n",
    "<br>\n",
    "\n",
    "#### (c) Exploratory Data Analysis (EDA)\n"
   ]
  },
  {
   "cell_type": "markdown",
   "metadata": {},
   "source": [
    "##### (c) (i) Employment distribution"
   ]
  },
  {
   "cell_type": "code",
   "execution_count": null,
   "metadata": {},
   "outputs": [],
   "source": [
    "data = clean_data['No of employee']\n",
    "\n",
    "sns.histplot(data, kde=True, bins=10)\n",
    "plt.title(\"No of employee Distribution\")\n",
    "plt.xlabel(\"No of employee\")\n",
    "plt.ylabel(\"Frequency\")\n",
    "plt.tight_layout()\n",
    "plt.show()"
   ]
  },
  {
   "cell_type": "markdown",
   "metadata": {},
   "source": [
    "Most companies have fewer than 10 employees, with a significant number having just 1 employee.\n",
    "\n",
    "The distribution is right-skewed, meaning there are a few companies with a large number of employees.\n",
    "<br>\n"
   ]
  },
  {
   "cell_type": "markdown",
   "metadata": {},
   "source": [
    "##### (c) (iii) Anual Turnover distribution"
   ]
  },
  {
   "cell_type": "code",
   "execution_count": null,
   "metadata": {},
   "outputs": [],
   "source": [
    "data = clean_data['Annual turnover']\n",
    "\n",
    "sns.histplot(data, kde=True, bins=10)\n",
    "plt.title(\"Annual Turnover Distribution\")\n",
    "plt.xlabel(\"Annual Turnover\")\n",
    "plt.ylabel(\"Frequency\")\n",
    "plt.tight_layout()\n",
    "plt.show()"
   ]
  },
  {
   "cell_type": "markdown",
   "metadata": {},
   "source": [
    "Most companies have an annual turnover of less than 1,000,000.\n",
    "\n",
    "The distribution is right-skewed, indicating that there are a few companies with a very high annual turnover.\n",
    "<br>\n"
   ]
  },
  {
   "cell_type": "markdown",
   "metadata": {},
   "source": [
    "##### (c) (iv) Total Cost to Company (TCTC) distribution"
   ]
  },
  {
   "cell_type": "code",
   "execution_count": null,
   "metadata": {},
   "outputs": [],
   "source": [
    "data = clean_data['TCTC']\n",
    "\n",
    "sns.histplot(data, kde=True, bins=10)\n",
    "plt.title(\"Total Cost To Company (TCTC)\")\n",
    "plt.xlabel(\"TCTC\")\n",
    "plt.ylabel(\"Frequency\")\n",
    "plt.tight_layout()\n",
    "plt.show()"
   ]
  },
  {
   "cell_type": "markdown",
   "metadata": {},
   "source": [
    "The Total Cost to Company (TCTC) for most companies is less than 20,000.\n",
    "\n",
    "The distribution is right-skewed, indicating that there are a few companies with a very high TCTC.\n",
    "\n",
    "<br>\n"
   ]
  },
  {
   "cell_type": "markdown",
   "metadata": {},
   "source": [
    "##### (c) (v) Basic Salary distribution"
   ]
  },
  {
   "cell_type": "code",
   "execution_count": null,
   "metadata": {},
   "outputs": [],
   "source": [
    "data = clean_data['Basic Salary']\n",
    "\n",
    "sns.histplot(data, kde=True, bins=10)\n",
    "plt.title(\"Basic Salary Distribution\")\n",
    "plt.xlabel(\"Basic Salary\")\n",
    "plt.ylabel(\"Frequency\")\n",
    "plt.tight_layout()\n",
    "plt.show()"
   ]
  },
  {
   "cell_type": "markdown",
   "metadata": {},
   "source": [
    "Most companies have a basic salary of less than 20,000.\n",
    "\n",
    "The distribution is right-skewed, indicating that there are a few companies with a very high basic salary.\n",
    "\n",
    "<br>\n"
   ]
  },
  {
   "cell_type": "markdown",
   "metadata": {},
   "source": [
    "##### (c) (vi) Cash Injection distribution"
   ]
  },
  {
   "cell_type": "code",
   "execution_count": null,
   "metadata": {},
   "outputs": [],
   "source": [
    "data = clean_data['Cash Injection']\n",
    "\n",
    "sns.histplot(data, kde=True, bins=2)\n",
    "plt.title(\"Cash Injection Distribution\")\n",
    "plt.xlabel(\"Cash Injectionr\")\n",
    "plt.ylabel(\"Frequency\")\n",
    "plt.tight_layout()\n",
    "plt.show()"
   ]
  },
  {
   "cell_type": "markdown",
   "metadata": {},
   "source": [
    "This is a binary variable where 1 means a cash injection has happened, and 0 means it hasn't.\n",
    "\n",
    "This is a binary variable where 1 indicates that companies have cash injection, while \"0\" indicates that they do not have a cash injection.\n",
    "\n",
    "<br>\n"
   ]
  },
  {
   "cell_type": "markdown",
   "metadata": {},
   "source": [
    "##### (c) (vii) Contribution Waiver distribution"
   ]
  },
  {
   "cell_type": "code",
   "execution_count": null,
   "metadata": {},
   "outputs": [],
   "source": [
    "data = clean_data['Contrib Waiver']\n",
    "\n",
    "sns.histplot(data, kde=True, bins=2)\n",
    "plt.title(\"Contribution Waiver Distribution\")\n",
    "plt.xlabel(\"Contribution Waiver\")\n",
    "plt.ylabel(\"Frequency\")\n",
    "plt.tight_layout()\n",
    "plt.show()"
   ]
  },
  {
   "cell_type": "markdown",
   "metadata": {},
   "source": [
    "This is a binary variable where 1 indicates that companies have a contribution waiver, while \"0\" indicates that they do not have a contribution waiver.\n",
    "\n",
    "This is a binary variable where 1 indicates that companies have a contribution waiver, while \"0\" indicates that they do not have a contribution waiver.\n",
    "\n",
    "<br>\n"
   ]
  },
  {
   "cell_type": "markdown",
   "metadata": {},
   "source": [
    "##### (c) (viii) Affected Employee distribution"
   ]
  },
  {
   "cell_type": "code",
   "execution_count": null,
   "metadata": {},
   "outputs": [],
   "source": [
    "data = clean_data['Affected Employee']\n",
    "\n",
    "sns.histplot(data, kde=True, bins=2)\n",
    "plt.title(\"Contribution Waiver Distribution\")\n",
    "plt.xlabel(\"Contribution Waiver\")\n",
    "plt.ylabel(\"Frequency\")\n",
    "plt.tight_layout()\n",
    "plt.show()"
   ]
  },
  {
   "cell_type": "markdown",
   "metadata": {},
   "source": [
    "This is another binary variable, with 1 indicating that an employee has been affected and 0 indicating that they have not.\n",
    "\n",
    "The histogram shows that most companies have had an affected employee (value of 1).\n",
    "\n",
    "<br>\n"
   ]
  },
  {
   "cell_type": "markdown",
   "metadata": {},
   "source": [
    "##### (c) (ix) Measuring correlations between the variables"
   ]
  },
  {
   "cell_type": "code",
   "execution_count": null,
   "metadata": {},
   "outputs": [],
   "source": [
    "corr_matrix = clean_data.corr()\n",
    "plt.figure(figsize=(10, 8))\n",
    "sns.heatmap(corr_matrix, annot=True, cmap='coolwarm')\n",
    "plt.title('Correlation matrix')\n"
   ]
  },
  {
   "cell_type": "markdown",
   "metadata": {},
   "source": [
    "**Employee-Turnover Correlation**\n",
    "- There is a positive correlation between **No of employee** and **Annual turnover**.\n",
    "- This suggests that companies with more employees tend to have higher annual turnover.\n",
    "\n",
    "**Employee-TCTC and Basic Salary Correlation**\n",
    "- There is also a positive correlation between **No of employee** and **TCTC**, **Basic Salary**.\n",
    "- This suggests that companies with more employees tend to have higher **TCTC** and **Basic Salary**.\n",
    "\n",
    "**Binary Variables Correlation**\n",
    "- **Cash Injection**, **Contrib Waiver**, and **Affected Employee** are binary variables and do not show any clear correlation with other variables.\n",
    "\n",
    "**TCTC-Basic Salary Correlation** \n",
    "- There is a positive correlation between **TCTC** and **Basic Salary**.\n",
    "- This suggests that companies with higher TCTC tend to offer higher Basic Salary.\n",
    "\n",
    " Turnover-TCTC and Basic Salary Correlation: \n",
    "- There is no clear correlation between **Annual turnover** and **TCTC**, **Basic Salary**.\n",
    "- This suggests that the annual turnover of a company does not necessarily depend on the **TCTC** or **Basic Salary**.\n",
    "\n",
    "**Cash Injection, Contrib Waiver, and Affected Employee Correlation**\n",
    "- There is no clear correlation between **Cash Injection**, **Contrib Waiver**, and **Affected Employee**.\n",
    "- This suggests that these variables do not have a significant influence on each other."
   ]
  },
  {
   "cell_type": "markdown",
   "metadata": {},
   "source": [
    "<br>\n",
    "<br>\n",
    "\n",
    "#### Machine Learning\n",
    "\n",
    "##### Predictive Modeling for Annual Turnover\n",
    "\n",
    "Using **Annual Turnover** as the target variable (what you want to predict) and use other features as predictors.\n",
    "\n",
    "* No of Employees\n",
    "* TCTC\n",
    "* Basic Salary\n",
    "* Cash Injection\n",
    "* Contrib Waiver\n",
    "\n",
    "we can use regression algorithms like linear regression, decision trees, or random forests to build the model.\n",
    "\n",
    "<br>\n",
    "\n",
    "##### Employee Classification\n",
    "\n",
    "We can use machine learning to classify employees into different categories based\n",
    "\n",
    "* Cash Injection\n",
    "* Contrib Waiver\n",
    "* Affected Employee\n",
    "\n",
    "We might want to classify employees into **Highly Affected** and **Less Affected** categories.\n",
    "We can use classification algorithms like logistic regression, decision trees, or support vector machines.\n",
    "\n",
    "<br>\n",
    "\n",
    "##### Employee Segmentation\n",
    "\n",
    "Clustering techniques like K-means clustering can be used to segment employees based on their characteristics.\n",
    "\n",
    "We can use features like:\n",
    "\n",
    "* No of Employees\n",
    "* TCTC\n",
    "* Basic Salary\n",
    "\n",
    "To create meaningful clusters"
   ]
  },
  {
   "cell_type": "code",
   "execution_count": null,
   "metadata": {},
   "outputs": [],
   "source": [
    "# Code goes here!"
   ]
  },
  {
   "cell_type": "markdown",
   "metadata": {},
   "source": [
    "<br>\n",
    "<br>\n",
    "\n",
    "#### Evaluation of Machine Learning\n",
    "\n",
    "Present performance metrics (e.g., Mean Absolute Error, R-squared) for each algorithm used.\n",
    "\n",
    "Explain what the results mean:\n",
    "\n",
    "* Which algorithm performed better?\n",
    "* How accurate is the prediction of turnover?"
   ]
  },
  {
   "cell_type": "markdown",
   "metadata": {},
   "source": [
    "<br>\n",
    "<br>\n",
    "\n",
    "#### Presentation of Results\n",
    "\n",
    "Summarize key findings:\n",
    "\n",
    "* Trends in employee turnover.\n",
    "* Compensation fairness insights.\n",
    "\n",
    "Mention any actionable recommendations based on the analysis."
   ]
  },
  {
   "cell_type": "code",
   "execution_count": 94,
   "metadata": {},
   "outputs": [
    {
     "name": "stdout",
     "output_type": "stream",
     "text": [
      "Accuracy: 0.832807570977918\n",
      "Classification Report:\n",
      "               precision    recall  f1-score   support\n",
      "\n",
      "           0       0.86      0.95      0.90       528\n",
      "           1       0.50      0.24      0.32       106\n",
      "\n",
      "    accuracy                           0.83       634\n",
      "   macro avg       0.68      0.59      0.61       634\n",
      "weighted avg       0.80      0.83      0.81       634\n",
      "\n"
     ]
    }
   ],
   "source": [
    "from sklearn.model_selection import train_test_split\n",
    "from sklearn.preprocessing import StandardScaler\n",
    "from sklearn.ensemble import RandomForestClassifier\n",
    "from sklearn.metrics import accuracy_score, classification_report\n",
    "\n",
    "# Load the dataset\n",
    "data = clean_data\n",
    "\n",
    "# Define features and create a binary target variable\n",
    "X = data[['No of employee', 'TCTC', 'Basic Salary']]\n",
    "# Set a threshold value for annual turnover to define \"doing well\" (1) or \"not doing well\" (0)\n",
    "threshold = 1000000  # Adjust the threshold as needed\n",
    "y = (data['Annual turnover'] > threshold).astype(int)\n",
    "\n",
    "# Split the data into training and testing sets\n",
    "X_train, X_test, y_train, y_test = train_test_split(X, y, test_size=0.4, random_state=42)\n",
    "\n",
    "# Standardize features\n",
    "scaler = StandardScaler()\n",
    "X_train = scaler.fit_transform(X_train)\n",
    "X_test = scaler.transform(X_test)\n",
    "\n",
    "# Train a Random Forest classifier\n",
    "model = RandomForestClassifier(random_state=42)\n",
    "model.fit(X_train, y_train)\n",
    "\n",
    "# Make predictions on the test set\n",
    "y_pred = model.predict(X_test)\n",
    "\n",
    "# Evaluate the model\n",
    "accuracy = accuracy_score(y_test, y_pred)\n",
    "report = classification_report(y_test, y_pred)\n",
    "\n",
    "# Print the results\n",
    "print(f\"Accuracy: {accuracy}\")\n",
    "print(\"Classification Report:\\n\", report)\n"
   ]
  },
  {
   "cell_type": "code",
   "execution_count": 96,
   "metadata": {},
   "outputs": [
    {
     "name": "stdout",
     "output_type": "stream",
     "text": [
      "The company is predicted to not be doing well.\n"
     ]
    }
   ],
   "source": [
    "# Assuming you have already trained and loaded your RandomForestClassifier as 'model'\n",
    "\n",
    "# Define the new data\n",
    "new_data = pd.DataFrame({\n",
    "    'No of employee': [2],\n",
    "    'TCTC': [200000000],\n",
    "    'Basic Salary': [2000]\n",
    "})\n",
    "\n",
    "# Standardize the new data using the same scaler used for training\n",
    "new_data = scaler.transform(new_data)\n",
    "\n",
    "# Make predictions for the new data point\n",
    "prediction = model.predict(new_data)\n",
    "\n",
    "# Interpret the prediction\n",
    "if prediction[0] == 1:\n",
    "    print(\"The company is predicted to be doing well.\")\n",
    "else:\n",
    "    print(\"The company is predicted to not be doing well.\")\n",
    "    \n"
   ]
  },
  {
   "cell_type": "code",
   "execution_count": 59,
   "metadata": {},
   "outputs": [
    {
     "data": {
      "text/html": [
       "<div>\n",
       "<style scoped>\n",
       "    .dataframe tbody tr th:only-of-type {\n",
       "        vertical-align: middle;\n",
       "    }\n",
       "\n",
       "    .dataframe tbody tr th {\n",
       "        vertical-align: top;\n",
       "    }\n",
       "\n",
       "    .dataframe thead th {\n",
       "        text-align: right;\n",
       "    }\n",
       "</style>\n",
       "<table border=\"1\" class=\"dataframe\">\n",
       "  <thead>\n",
       "    <tr style=\"text-align: right;\">\n",
       "      <th></th>\n",
       "      <th>No of employee</th>\n",
       "      <th>Annual turnover</th>\n",
       "      <th>TCTC</th>\n",
       "      <th>Basic Salary</th>\n",
       "      <th>Cash Injection</th>\n",
       "      <th>Contrib Waiver</th>\n",
       "      <th>Affected Employee</th>\n",
       "    </tr>\n",
       "  </thead>\n",
       "  <tbody>\n",
       "    <tr>\n",
       "      <th>0</th>\n",
       "      <td>1</td>\n",
       "      <td>1500000.00</td>\n",
       "      <td>3000.00</td>\n",
       "      <td>3000.00</td>\n",
       "      <td>1</td>\n",
       "      <td>1</td>\n",
       "      <td>1</td>\n",
       "    </tr>\n",
       "    <tr>\n",
       "      <th>1</th>\n",
       "      <td>9</td>\n",
       "      <td>0.00</td>\n",
       "      <td>0.00</td>\n",
       "      <td>0.00</td>\n",
       "      <td>0</td>\n",
       "      <td>0</td>\n",
       "      <td>1</td>\n",
       "    </tr>\n",
       "    <tr>\n",
       "      <th>2</th>\n",
       "      <td>16</td>\n",
       "      <td>0.00</td>\n",
       "      <td>1500.00</td>\n",
       "      <td>1500.00</td>\n",
       "      <td>1</td>\n",
       "      <td>0</td>\n",
       "      <td>1</td>\n",
       "    </tr>\n",
       "    <tr>\n",
       "      <th>3</th>\n",
       "      <td>2</td>\n",
       "      <td>36000.00</td>\n",
       "      <td>3600.00</td>\n",
       "      <td>3600.00</td>\n",
       "      <td>0</td>\n",
       "      <td>0</td>\n",
       "      <td>1</td>\n",
       "    </tr>\n",
       "    <tr>\n",
       "      <th>4</th>\n",
       "      <td>16</td>\n",
       "      <td>798783.03</td>\n",
       "      <td>9848.22</td>\n",
       "      <td>9880.00</td>\n",
       "      <td>1</td>\n",
       "      <td>1</td>\n",
       "      <td>1</td>\n",
       "    </tr>\n",
       "    <tr>\n",
       "      <th>...</th>\n",
       "      <td>...</td>\n",
       "      <td>...</td>\n",
       "      <td>...</td>\n",
       "      <td>...</td>\n",
       "      <td>...</td>\n",
       "      <td>...</td>\n",
       "      <td>...</td>\n",
       "    </tr>\n",
       "    <tr>\n",
       "      <th>1579</th>\n",
       "      <td>2</td>\n",
       "      <td>13400.00</td>\n",
       "      <td>7518.00</td>\n",
       "      <td>2000.00</td>\n",
       "      <td>1</td>\n",
       "      <td>0</td>\n",
       "      <td>1</td>\n",
       "    </tr>\n",
       "    <tr>\n",
       "      <th>1580</th>\n",
       "      <td>3</td>\n",
       "      <td>12000.00</td>\n",
       "      <td>1500.00</td>\n",
       "      <td>300.00</td>\n",
       "      <td>1</td>\n",
       "      <td>0</td>\n",
       "      <td>1</td>\n",
       "    </tr>\n",
       "    <tr>\n",
       "      <th>1581</th>\n",
       "      <td>1</td>\n",
       "      <td>508580.00</td>\n",
       "      <td>35350.57</td>\n",
       "      <td>27856.33</td>\n",
       "      <td>1</td>\n",
       "      <td>1</td>\n",
       "      <td>1</td>\n",
       "    </tr>\n",
       "    <tr>\n",
       "      <th>1582</th>\n",
       "      <td>2</td>\n",
       "      <td>550992.00</td>\n",
       "      <td>45916.00</td>\n",
       "      <td>45916.00</td>\n",
       "      <td>1</td>\n",
       "      <td>1</td>\n",
       "      <td>1</td>\n",
       "    </tr>\n",
       "    <tr>\n",
       "      <th>1583</th>\n",
       "      <td>2</td>\n",
       "      <td>2500000.00</td>\n",
       "      <td>0.00</td>\n",
       "      <td>0.00</td>\n",
       "      <td>1</td>\n",
       "      <td>1</td>\n",
       "      <td>1</td>\n",
       "    </tr>\n",
       "  </tbody>\n",
       "</table>\n",
       "<p>1584 rows × 7 columns</p>\n",
       "</div>"
      ],
      "text/plain": [
       "      No of employee  Annual turnover     TCTC  Basic Salary  Cash Injection  \\\n",
       "0                  1       1500000.00  3000.00       3000.00               1   \n",
       "1                  9             0.00     0.00          0.00               0   \n",
       "2                 16             0.00  1500.00       1500.00               1   \n",
       "3                  2         36000.00  3600.00       3600.00               0   \n",
       "4                 16        798783.03  9848.22       9880.00               1   \n",
       "...              ...              ...      ...           ...             ...   \n",
       "1579               2         13400.00  7518.00       2000.00               1   \n",
       "1580               3         12000.00  1500.00        300.00               1   \n",
       "1581               1        508580.00 35350.57      27856.33               1   \n",
       "1582               2        550992.00 45916.00      45916.00               1   \n",
       "1583               2       2500000.00     0.00          0.00               1   \n",
       "\n",
       "      Contrib Waiver  Affected Employee  \n",
       "0                  1                  1  \n",
       "1                  0                  1  \n",
       "2                  0                  1  \n",
       "3                  0                  1  \n",
       "4                  1                  1  \n",
       "...              ...                ...  \n",
       "1579               0                  1  \n",
       "1580               0                  1  \n",
       "1581               1                  1  \n",
       "1582               1                  1  \n",
       "1583               1                  1  \n",
       "\n",
       "[1584 rows x 7 columns]"
      ]
     },
     "execution_count": 59,
     "metadata": {},
     "output_type": "execute_result"
    }
   ],
   "source": [
    "clean_data"
   ]
  }
 ],
 "metadata": {
  "kernelspec": {
   "display_name": "Python 3",
   "language": "python",
   "name": "python3"
  },
  "language_info": {
   "codemirror_mode": {
    "name": "ipython",
    "version": 3
   },
   "file_extension": ".py",
   "mimetype": "text/x-python",
   "name": "python",
   "nbconvert_exporter": "python",
   "pygments_lexer": "ipython3",
   "version": "3.11.4"
  },
  "orig_nbformat": 4
 },
 "nbformat": 4,
 "nbformat_minor": 2
}
