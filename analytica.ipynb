{
 "cells": [
  {
   "cell_type": "code",
   "execution_count": null,
   "metadata": {},
   "outputs": [],
   "source": [
    "# All important libraries goes here!\n",
    "import pandas as pd"
   ]
  },
  {
   "cell_type": "code",
   "execution_count": null,
   "metadata": {},
   "outputs": [],
   "source": [
    "# Data Frame and removing colums\n",
    "dataframe = pd.read_csv('./Data/washedData.csv')\n",
    "dataframe = dataframe.drop(columns='ID')"
   ]
  },
  {
   "cell_type": "markdown",
   "metadata": {},
   "source": [
    "#### Problem Statement\n",
    "We are trying to understand the factors that influence whether a company has affected employees. This is important because companies with affected employees may require additional support or interventions. By identifying the key factors, we can target our interventions more effectively and potentially prevent employees from being affected in the future.\n",
    "\n",
    "To solve this problem, we will use this dataset to build a predictive model. This model will take as input the various financial and operational characteristics of a company and output a prediction of whether the company has affected employees. We can then use this model to predict the status of new companies and guide our interventions.\n"
   ]
  },
  {
   "cell_type": "markdown",
   "metadata": {},
   "source": [
    "<br>\n",
    "<br>\n",
    "\n",
    "#### (a) Data cleaning\n",
    "\n",
    "* Handling duplicate values.\n",
    "* Dealing with missing/null values.\n",
    "* Addressing inconsistent data.\n",
    "\n",
    "We will go through every column"
   ]
  },
  {
   "cell_type": "markdown",
   "metadata": {},
   "source": [
    "<br>\n",
    "\n",
    "#### (a) (ii) looking if there are missing values in each column of the dataframe"
   ]
  },
  {
   "cell_type": "code",
   "execution_count": null,
   "metadata": {},
   "outputs": [],
   "source": [
    "dataframe.info()"
   ]
  },
  {
   "cell_type": "markdown",
   "metadata": {},
   "source": [
    "From the results it shows that there arent any missing values, since the total entries = Not-Null Count of 4137"
   ]
  },
  {
   "cell_type": "markdown",
   "metadata": {},
   "source": [
    "<br>\n",
    "\n",
    "#### (a) (iii) Checking for duplicate rows"
   ]
  },
  {
   "cell_type": "code",
   "execution_count": null,
   "metadata": {},
   "outputs": [],
   "source": [
    "dataframe.duplicated().sum()"
   ]
  },
  {
   "cell_type": "markdown",
   "metadata": {},
   "source": [
    "There are 1075 duplicates in the dataset, Those will be removed"
   ]
  },
  {
   "cell_type": "code",
   "execution_count": null,
   "metadata": {},
   "outputs": [],
   "source": [
    "dataframe.drop_duplicates(inplace=True)\n",
    "dataframe.duplicated().sum()"
   ]
  },
  {
   "cell_type": "markdown",
   "metadata": {},
   "source": [
    "<br>\n",
    "\n",
    "#### (a) (iv) Ensuring data consistency\n",
    "\n",
    "These attributes may contain some inconsistencies, for the datatype has to be an integer.\n",
    "we will remove those values and run an algorithm to ensure consistency.\n",
    "\n",
    " 2.   Annual turnover    4129 non-null   object\n",
    " 3.   TCTC               4123 non-null   object\n",
    " 4.  Basic Salary       4135 non-null   object"
   ]
  },
  {
   "cell_type": "code",
   "execution_count": null,
   "metadata": {},
   "outputs": [],
   "source": [
    "dataframe['Annual turnover'] = pd.to_numeric(dataframe['Annual turnover'], errors='coerce')\n",
    "dataframe['TCTC'] = pd.to_numeric(dataframe['TCTC'], errors='coerce')\n",
    "dataframe['Basic Salary'] = pd.to_numeric(dataframe['Basic Salary'], errors='coerce')\n",
    "\n",
    "dataframe.head(5)"
   ]
  },
  {
   "cell_type": "markdown",
   "metadata": {},
   "source": [
    "Some minor cleaning has been performed, and unknown values have been removed, For further cleaning, data will be formatted to readable format/values, and removing null values"
   ]
  },
  {
   "cell_type": "code",
   "execution_count": null,
   "metadata": {},
   "outputs": [],
   "source": [
    "dataframe.dropna(inplace=True)\n",
    "\n",
    "dataframe['Annual turnover'] = dataframe['Annual turnover'].apply(lambda x: int(x))\n",
    "dataframe['TCTC'] = dataframe['TCTC'].apply(lambda x: int(x))\n",
    "dataframe['Basic Salary'] = dataframe['Basic Salary'].apply(lambda x: int(x))"
   ]
  },
  {
   "cell_type": "code",
   "execution_count": null,
   "metadata": {},
   "outputs": [],
   "source": [
    "dataframe.head(5)"
   ]
  },
  {
   "cell_type": "markdown",
   "metadata": {},
   "source": [
    "<br>\n",
    "<br>\n",
    "\n",
    "#### Statistical Analysis\n",
    "\n",
    "* Mean TCTC: Explain the average compensation.\n",
    "* Median Basic Salary: Discuss the central tendency.\n",
    "* Standard Deviation of Annual Turnover: Highlight variability."
   ]
  },
  {
   "cell_type": "code",
   "execution_count": null,
   "metadata": {},
   "outputs": [],
   "source": [
    "# Code goes here!"
   ]
  },
  {
   "cell_type": "markdown",
   "metadata": {},
   "source": [
    "<br>\n",
    "<br>\n",
    "\n",
    "#### Exploratory Data Analysis (EDA)\n",
    "\n",
    "* Histograms of \"Annual turnover\" and \"Basic Salary.\"\n",
    "* Box plots of \"TCTC\" to identify outliers.\n",
    "* Scatter plots to explore relationships between variables.\n",
    "\n",
    "Interpret the insights gained from each visualization."
   ]
  },
  {
   "cell_type": "code",
   "execution_count": null,
   "metadata": {},
   "outputs": [],
   "source": [
    "# Code goes here!\n",
    "# Ever exploration is to be done on an individual block.\n",
    "# With a markdown to explain the Exploration"
   ]
  },
  {
   "cell_type": "markdown",
   "metadata": {},
   "source": [
    "<br>\n",
    "<br>\n",
    "\n",
    "#### Machine Learning\n",
    "\n",
    "##### Predictive Modeling for Annual Turnover\n",
    "\n",
    "Using **Annual Turnover** as the target variable (what you want to predict) and use other features as predictors.\n",
    "\n",
    "* No of Employees\n",
    "* TCTC\n",
    "* Basic Salary\n",
    "* Cash Injection\n",
    "* Contrib Waiver\n",
    "\n",
    "we can use regression algorithms like linear regression, decision trees, or random forests to build the model.\n",
    "\n",
    "<br>\n",
    "\n",
    "##### Employee Classification\n",
    "\n",
    "We can use machine learning to classify employees into different categories based\n",
    "\n",
    "* Cash Injection\n",
    "* Contrib Waiver\n",
    "* Affected Employee\n",
    "\n",
    "We might want to classify employees into **Highly Affected** and **Less Affected** categories.\n",
    "We can use classification algorithms like logistic regression, decision trees, or support vector machines.\n",
    "\n",
    "<br>\n",
    "\n",
    "##### Employee Segmentation\n",
    "\n",
    "Clustering techniques like K-means clustering can be used to segment employees based on their characteristics.\n",
    "\n",
    "We can use features like:\n",
    "\n",
    "* No of Employees\n",
    "* TCTC\n",
    "* Basic Salary\n",
    "\n",
    "To create meaningful clusters"
   ]
  },
  {
   "cell_type": "code",
   "execution_count": null,
   "metadata": {},
   "outputs": [],
   "source": [
    "# Code goes here!"
   ]
  },
  {
   "cell_type": "markdown",
   "metadata": {},
   "source": [
    "<br>\n",
    "<br>\n",
    "\n",
    "#### Evaluation of Machine Learning\n",
    "\n",
    "Present performance metrics (e.g., Mean Absolute Error, R-squared) for each algorithm used.\n",
    "\n",
    "Explain what the results mean:\n",
    "\n",
    "* Which algorithm performed better?\n",
    "* How accurate is the prediction of turnover?"
   ]
  },
  {
   "cell_type": "markdown",
   "metadata": {},
   "source": [
    "<br>\n",
    "<br>\n",
    "\n",
    "#### Presentation of Results\n",
    "\n",
    "Summarize key findings:\n",
    "\n",
    "* Trends in employee turnover.\n",
    "* Compensation fairness insights.\n",
    "\n",
    "Mention any actionable recommendations based on the analysis."
   ]
  }
 ],
 "metadata": {
  "kernelspec": {
   "display_name": "Python 3",
   "language": "python",
   "name": "python3"
  },
  "language_info": {
   "codemirror_mode": {
    "name": "ipython",
    "version": 3
   },
   "file_extension": ".py",
   "mimetype": "text/x-python",
   "name": "python",
   "nbconvert_exporter": "python",
   "pygments_lexer": "ipython3",
   "version": "3.11.4"
  },
  "orig_nbformat": 4
 },
 "nbformat": 4,
 "nbformat_minor": 2
}
